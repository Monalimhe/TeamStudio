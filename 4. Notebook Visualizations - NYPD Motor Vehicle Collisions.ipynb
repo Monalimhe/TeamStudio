{
 "cells": [
  {
   "cell_type": "markdown",
   "metadata": {},
   "source": [
    "<div class=\"clearfix\" style=\"padding: 2px; padding-left: 0px\">\n",
    "<img src=\"http://alpinedata.com/wp-content/themes/alpine/library/images/logo.png\" width=\"250px\" style=\"display: inline-block; margin-top: 2px;\">\n",
    "</div>\n",
    "\n",
    "\n",
    "\n",
    "# Visualizations - NYPD Motor Vehicle Collisions Dataset"
   ]
  },
  {
   "cell_type": "markdown",
   "metadata": {},
   "source": [
    "We are using the open source libraries plotly and seaborn to build some interactive visualizations. We also leverage the cufflinks library which enables us to plot straight from pandas DataFrames.\n",
    "\n",
    "Sources and cufflink examples:<br>\n",
    "\n",
    "<a href=\"https://data.cityofnewyork.us/Public-Safety/NYPD-Motor-Vehicle-Collisions/h9gi-nx95\">https://data.cityofnewyork.us/Public-Safety/NYPD-Motor-Vehicle-Collisions/h9gi-nx95</a><br>\n",
    "<a href=\"https://plot.ly/ipython-notebooks/cufflinks/\">https://plot.ly/ipython-notebooks/cufflinks/</a>\n",
    "<br>\n",
    "\n",
    "### Instructions\n",
    "\n",
    "1) To run Jupyter notebooks within Chorus, you need to set up a dedicated server and make all the needed configurations. See [our installation instructions](https://alpine.atlassian.net/wiki/display/V6/How+to+Install+Jupyter+Notebook).<br>\n",
    "\n",
    "2) <i>(Once 1 is completed)</i> DO NOT modify/run this script in the current workspace. You should copy it to your own workspace (using the Copy button after closing the notebook).\n"
   ]
  },
  {
   "cell_type": "code",
   "execution_count": null,
   "metadata": {
    "scrolled": false
   },
   "outputs": [],
   "source": [
    "import sys\n",
    "\n",
    "if sys.version_info.major < 3:\n",
    "    !pip2 install cufflinks\n",
    "    !pip2 install seaborn\n",
    "    !pip2 install plotly\n",
    "else:\n",
    "    !pip3 install cufflinks\n",
    "    !pip3 install seaborn\n",
    "    !pip3 install plotly\n",
    "\n",
    "import matplotlib.pyplot as plt\n",
    "# matplotlib.patches allows us create colored patches we can use for legends in plots\n",
    "import matplotlib.patches as mpatches \n",
    "import seaborn as sns # seaborn also builds on matplotlib and adds graphical features and new plot types\n",
    "\n",
    "import pandas as pd\n",
    "import numpy as np\n",
    "import matplotlib\n",
    "import cufflinks as cf\n",
    "import plotly\n",
    "import plotly.offline as py\n",
    "import plotly.graph_objs as go\n",
    "from plotly.graph_objs import Bar, Scatter, Figure, Layout\n",
    "from plotly.offline import download_plotlyjs, init_notebook_mode, plot, iplot\n",
    "from IPython.core.display import display, HTML\n",
    "\n",
    "cf.go_offline() # required to use plotly offline\n",
    "init_notebook_mode(connected=True) # graphs and charts inline\n",
    "%matplotlib inline\n"
   ]
  },
  {
   "cell_type": "markdown",
   "metadata": {},
   "source": [
    "## Getting the data from the web"
   ]
  },
  {
   "cell_type": "code",
   "execution_count": null,
   "metadata": {},
   "outputs": [],
   "source": [
    "#Using NYC Open Data api, filtering results for 2014 (limited to 20000 rows)\n",
    "\n",
    "url = 'https://data.cityofnewyork.us/resource/qiz3-axqb.json?$limit=20000&\\\n",
    "$where=date%20between%20%272014-01-01T00:00:00%27%20and%20%272015-01-01T00:00:00%27'\n",
    "collisions = pd.read_json(url)"
   ]
  },
  {
   "cell_type": "code",
   "execution_count": null,
   "metadata": {},
   "outputs": [],
   "source": [
    "collisions.head(2)"
   ]
  },
  {
   "cell_type": "code",
   "execution_count": null,
   "metadata": {},
   "outputs": [],
   "source": [
    "#Columns in the dataset\n",
    "display(HTML(\"<b>Columns in the dataset</b>\"))\n",
    "collisions.columns"
   ]
  },
  {
   "cell_type": "markdown",
   "metadata": {},
   "source": [
    "## Creating a bar chart of contributing factors"
   ]
  },
  {
   "cell_type": "markdown",
   "metadata": {},
   "source": [
    "Let's look at the contributing factors of vehicle collisions. In our dataset, the factors are divided into 5 columns. We can use the pandas method ``concat`` to combine them into one."
   ]
  },
  {
   "cell_type": "code",
   "execution_count": null,
   "metadata": {},
   "outputs": [],
   "source": [
    "contributing_factors = pd.concat(\n",
    "          [collisions.contributing_factor_vehicle_1,\n",
    "           collisions.contributing_factor_vehicle_2,\n",
    "           collisions.contributing_factor_vehicle_3,\n",
    "           collisions.contributing_factor_vehicle_4,\n",
    "           collisions.contributing_factor_vehicle_5])\n",
    "\n",
    "contributing_factors.head()"
   ]
  },
  {
   "cell_type": "markdown",
   "metadata": {},
   "source": [
    "Now we need to compute the counts for each contributing factor. We'll filter out ones that are 'Unspecified'."
   ]
  },
  {
   "cell_type": "code",
   "execution_count": null,
   "metadata": {},
   "outputs": [],
   "source": [
    "temp = pd.DataFrame({'contributing_factors':contributing_factors.value_counts()})\n",
    "df = temp[temp.index != 'Unspecified']\n",
    "df = df.sort_values(by='contributing_factors', ascending=False)\n",
    "display(HTML(\"<b>Top contributing factors in 2014 (limited to 20k collisions) </b>\"))\n",
    "df.head()"
   ]
  },
  {
   "cell_type": "markdown",
   "metadata": {},
   "source": [
    "Next we will create a horizontal bar chart of the contributing factors using plotly."
   ]
  },
  {
   "cell_type": "code",
   "execution_count": null,
   "metadata": {},
   "outputs": [],
   "source": [
    "df = df.sort_values(by='contributing_factors', ascending=True)\n",
    "\n",
    "data  = go.Data([\n",
    "            go.Bar(\n",
    "              y = df.index,\n",
    "              x = df.contributing_factors,\n",
    "              orientation='h'\n",
    "        )])\n",
    "layout = go.Layout(\n",
    "        height = '1000',\n",
    "        margin=go.Margin(l=300),\n",
    "        title = \"Contributing Factors for Vehicle Collisions in 2014 (limited to 20k collisions)\"\n",
    ")\n",
    "fig  = go.Figure(data=data, layout=layout)\n",
    "py.iplot(fig)"
   ]
  },
  {
   "cell_type": "markdown",
   "metadata": {},
   "source": [
    "# Analysis - Contributing Factors\n",
    "\n",
    "The contributing factor is not specified in most collisions (these were the ones we filtered as 'unspecified').\n",
    "But we see that driver distraction, fatigue and failure to yield right-of-way are common causes of collisions."
   ]
  },
  {
   "cell_type": "markdown",
   "metadata": {},
   "source": [
    "## Percentage of collisions involving injuries and deaths per borough"
   ]
  },
  {
   "cell_type": "code",
   "execution_count": null,
   "metadata": {},
   "outputs": [],
   "source": [
    "temp2 = pd.DataFrame({'borough':collisions.borough.value_counts()})\n",
    "df2 = temp2.sort_values(by='borough', ascending=False)"
   ]
  },
  {
   "cell_type": "code",
   "execution_count": null,
   "metadata": {},
   "outputs": [],
   "source": [
    "temp3 = pd.DataFrame({'borough_fatal': collisions[collisions.number_of_persons_killed > 0].borough.value_counts(),\n",
    "                      'borough_injuries': collisions[collisions.number_of_persons_injured > 0].borough.value_counts(),\n",
    "                     'borough_total': collisions.borough.value_counts()})\n",
    "\n",
    "temp3['injuries_per_100_collisions'] = temp3.borough_injuries / temp3.borough_total\n",
    "temp3['deaths_per_100_collisions'] = temp3.borough_fatal / temp3.borough_total\n",
    "display(HTML(\"<b>Statistics per borough - 2014 (limited to 20k collisions)</b>\"))\n",
    "temp3"
   ]
  },
  {
   "cell_type": "code",
   "execution_count": null,
   "metadata": {},
   "outputs": [],
   "source": [
    "temp3[['borough_fatal', 'borough_total']].sort_values(by = 'borough_total', ascending = True)\n",
    "\n",
    "\n",
    "data  = go.Data([\n",
    "            go.Bar(\n",
    "                  y = temp3.borough_total,\n",
    "                  x = temp3.index,\n",
    "                  name= 'Total collisions',\n",
    "                  orientation='v'\n",
    "        ),\n",
    "            go.Bar(\n",
    "                y = temp3.borough_injuries,\n",
    "                x = temp3.index,\n",
    "                name = 'Total collisions with injuries',\n",
    "                orientation = 'v')\n",
    "    ])\n",
    "\n",
    "layout = go.Layout(\n",
    "        height = '500',\n",
    "        margin=go.Margin(l=100),\n",
    "        title = \"Total collisions and injuries by borough - 2014 (limited to 20k collisions)\"\n",
    ")\n",
    "\n",
    "fig  = go.Figure(data=data, layout=layout)\n",
    "py.iplot(fig)"
   ]
  },
  {
   "cell_type": "markdown",
   "metadata": {},
   "source": [
    "### Analysis\n",
    "\n",
    "The most collisions happen in Manhattan and the least happen on Staten Island. The ratio of injuries/total collisions is the lowest in Manhattan (we will look at it in more detail below)."
   ]
  },
  {
   "cell_type": "code",
   "execution_count": null,
   "metadata": {},
   "outputs": [],
   "source": [
    "color1 = '#9467bd'\n",
    "color2 = '#F08B00'\n",
    "\n",
    "trace1 = go.Scatter(\n",
    "    x = temp3.index,\n",
    "    y = temp3['injuries_per_100_collisions'],\n",
    "    name='injuries_per_100_collisions',\n",
    "    line = dict(\n",
    "        color = color1\n",
    "    )\n",
    ")\n",
    "\n",
    "data = [trace1]\n",
    "layout = go.Layout(\n",
    "    title= \"Injuries per 100 collisions by borough\",\n",
    "    yaxis=dict(\n",
    "        title='collisions',\n",
    "        titlefont=dict(\n",
    "            color=color1\n",
    "        ),\n",
    "        tickfont=dict(\n",
    "            color=color1\n",
    "        )\n",
    "    )\n",
    ")\n",
    "\n",
    "fig = go.Figure(data=data, layout=layout)\n",
    "plot_url = py.iplot(fig)"
   ]
  },
  {
   "cell_type": "markdown",
   "metadata": {},
   "source": [
    "### Analysis\n",
    "\n",
    "The percentage of collisions resulting in at least one injury ranged from 18.3% to 35.2% across the 5 boroughs and is the lowest in Manhattan at 18.3% even though Manhattan is the first borough in terms of total number of accidents in 2014 (limited to 20k collisions).\n",
    "\n",
    "One explanation would be that vehicles are driving slower in Manhattan because of the traffic and road types (no highways...etc), which results in fewer injuries."
   ]
  },
  {
   "cell_type": "markdown",
   "metadata": {
    "collapsed": true
   },
   "source": [
    "## Creating a correlation heatmap "
   ]
  },
  {
   "cell_type": "code",
   "execution_count": null,
   "metadata": {},
   "outputs": [],
   "source": [
    "collisions['hour'] = pd.DatetimeIndex(collisions.time).hour\n",
    "corr2 = pd.get_dummies(collisions[['hour','borough','number_of_cyclist_injured',\n",
    "                                   'number_of_cyclist_killed', 'number_of_motorist_injured',\n",
    "                                   'number_of_motorist_killed', 'number_of_pedestrians_killed',\n",
    "                                  'number_of_persons_killed']]).corr()\n",
    "f, ax = plt.subplots(figsize=(13, 11))\n",
    "ax.set_title(\"Correlations\")\n",
    "sns.heatmap(corr2, vmax=.3,\n",
    "            square=True)"
   ]
  },
  {
   "cell_type": "markdown",
   "metadata": {},
   "source": [
    "### Example of a correlation heatmap\n",
    "\n",
    "This heatmap is a nice way to visualize correlations between variables. To make the analysis more relevant, we should leverage feature engineering and create a subset of relevant features to analyze (like binary features for locations of interest, or vehicle types of interest, days of week etc...)"
   ]
  },
  {
   "cell_type": "markdown",
   "metadata": {
    "collapsed": true
   },
   "source": [
    "## Creating boxplots "
   ]
  },
  {
   "cell_type": "code",
   "execution_count": null,
   "metadata": {},
   "outputs": [],
   "source": [
    "sns.set(style=\"darkgrid\")\n",
    "plt.figure(figsize=(12,6))\n",
    "ax = sns.boxplot(y=\"hour\",x =\"borough\",\n",
    "               data=collisions, palette=\"Set1\")\n",
    "display(HTML(\"<b>Distribution of collisions during the day (per borough)</b>\"))"
   ]
  },
  {
   "cell_type": "markdown",
   "metadata": {
    "collapsed": true
   },
   "source": [
    "The median time for collisions to occur is around 2 p.m. for all boroughs and the distribution looks pretty much the same. There are slightly more collisions in the morning for Bronx and Queens. We might want to investigate into that."
   ]
  },
  {
   "cell_type": "markdown",
   "metadata": {},
   "source": [
    "## Creating density plots - collisions involving injuries across day hours (per borough)"
   ]
  },
  {
   "cell_type": "code",
   "execution_count": null,
   "metadata": {},
   "outputs": [],
   "source": [
    "sns.set(style=\"darkgrid\")\n",
    "\n",
    "# Subsets\n",
    "Bronx = collisions[collisions['borough'] == 'BRONX']\n",
    "Bronx['injured_yes'] = ((Bronx['number_of_persons_injured'] >= 1).astype(int))\n",
    "Queens = collisions[collisions['borough'] == 'QUEENS']\n",
    "Queens['injured_yes'] = ((Queens['number_of_persons_injured'] >= 1).astype(int))\n",
    "Manhattan = collisions[collisions['borough'] == 'MANHATTAN']\n",
    "Manhattan['injured_yes'] = ((Manhattan['number_of_persons_injured'] >= 1).astype(int))\n",
    "Brooklyn = collisions[collisions['borough'] == 'BROOKLYN']\n",
    "Brooklyn['injured_yes'] = ((Brooklyn['number_of_persons_injured'] >= 1).astype(int))\n",
    "\n",
    "\n",
    "# Set up the figure\n",
    "f, ((ax1, ax2), (ax3, ax4)) = plt.subplots(2,2, figsize = (12,12))\n",
    "#ax.set_aspect(\"equal\")\n",
    "\n",
    "# Draw the two density plots\n",
    "sns.kdeplot(Bronx['injured_yes'], Bronx['hour'],\n",
    "                 cmap=\"Reds\", shade=True, shade_lowest=False, ax = ax1)\n",
    "sns.kdeplot(Queens['injured_yes'], Queens.hour,\n",
    "                 cmap=\"Blues\", shade=True, shade_lowest=False, ax = ax2)\n",
    "sns.kdeplot(Brooklyn['injured_yes'], Brooklyn.hour,\n",
    "                 cmap=\"Greens\", shade=True, shade_lowest=False, ax = ax3)\n",
    "sns.kdeplot(Manhattan['injured_yes'], Manhattan.hour,\n",
    "                 cmap=\"Purples\", shade=True, shade_lowest=False, ax = ax4)\n",
    "\n",
    "# Add labels to the plot\n",
    "red = sns.color_palette(\"Reds\")[-2]\n",
    "blue = sns.color_palette(\"Blues\")[-2]\n",
    "ax1.set_title(\"Bronx\")\n",
    "ax2.set_title(\"Queens\")\n",
    "ax3.set_title(\"Brooklyn\")\n",
    "ax4.set_title(\"Manhattan\")"
   ]
  },
  {
   "cell_type": "markdown",
   "metadata": {},
   "source": [
    "## Creating a bar chart for collisions by weekday and vehicle type"
   ]
  },
  {
   "cell_type": "code",
   "execution_count": null,
   "metadata": {},
   "outputs": [],
   "source": [
    "  #List of distinct values and categories I want to associate with:\n",
    "    #'TAXI': 'Taxi',\n",
    "    #'AMBULANCE': 'Other',\n",
    "    #'BICYCLE': 'Other',\n",
    "    #'BUS': 'Bus',\n",
    "    #'FIRE TRUCK': 'Other',\n",
    "    #'LARGE COM VEH(6 OR MORE TIRES)': 'Truck',\n",
    "    #'LIVERY VEHICLE': 'Truck',\n",
    "    #'MOTORCYCLE': 'Other',\n",
    "    #'OTHER': 'Other',\n",
    "    #'PASSENGER VEHICLE': 'Auto',\n",
    "    #'PICK-UP TRUCK': 'Other',\n",
    "    #'PEDICAB': 'Other',\n",
    "    #'SCOOTER': 'Other',\n",
    "    #'SMALL COM VEH(4 TIRES)': 'Truck',\n",
    "    #'SPORT UTILITY / STATION WAGON': 'Auto',\n",
    "    #'UNKNOWN': 'Other',\n",
    "    #'VAN': 'Auto',\n",
    "    #'UNSPECIFIED': 'Other',\n",
    "    #None: None\n",
    "\n",
    "    # We focus on the vehicle_type_code_1 only here \n",
    "list_auto = ['PASSENGER VEHICLE', 'SPORT UTILITY / STATION WAGON', 'VAN']\n",
    "list_truck = ['LARGE COM VEH(6 OR MORE TIRES)','SMALL COM VEH(4 TIRES)','LIVERY VEHICLE','PICK-UP TRUCK' ]\n",
    "list_bus = ['BUS']\n",
    "list_taxi = ['TAXI']\n",
    "list_other = ['AMBULANCE','BICYCLE', 'FIRE TRUCK', 'PEDICAB','MOTORCYCLE','OTHER','SCOOTER','UNKNOWN','UNSPECIFIED']\n",
    "    \n",
    "coll_veh_type = collisions\n",
    "coll_veh_type['WEEKDAY_IM'] = pd.DatetimeIndex(collisions.date).dayofweek\n",
    "\n",
    "df_coll_by_vehicle_type = pd.DataFrame(\n",
    "    {'taxi': coll_veh_type[coll_veh_type['vehicle_type_code1'].isin(list_taxi)].WEEKDAY_IM.value_counts(),\n",
    "     'bus': coll_veh_type[coll_veh_type['vehicle_type_code1'].isin(list_bus)].WEEKDAY_IM.value_counts(),\n",
    "     'other': coll_veh_type[coll_veh_type['vehicle_type_code1'].isin(list_other)].WEEKDAY_IM.value_counts(),\n",
    "     'truck': coll_veh_type[coll_veh_type['vehicle_type_code1'].isin(list_truck)].WEEKDAY_IM.value_counts(),\n",
    "     'auto': coll_veh_type[coll_veh_type['vehicle_type_code1'].isin(list_auto)].WEEKDAY_IM.value_counts(),\n",
    "                     })\n",
    "\n",
    "\n",
    "data  = go.Data([\n",
    "                go.Bar(\n",
    "                  y = df_coll_by_vehicle_type.auto,\n",
    "                  x = df_coll_by_vehicle_type.index,\n",
    "                  name= 'auto',\n",
    "                  orientation='v'),\n",
    "                go.Bar(\n",
    "                y = df_coll_by_vehicle_type.taxi,\n",
    "                x = df_coll_by_vehicle_type.index,\n",
    "                name = 'taxi',\n",
    "                orientation = 'v'),\n",
    "                    go.Bar(\n",
    "                y = df_coll_by_vehicle_type.bus,\n",
    "                x = df_coll_by_vehicle_type.index,\n",
    "                name = 'bus',\n",
    "                orientation = 'v'),\n",
    "                     go.Bar(\n",
    "                y = df_coll_by_vehicle_type.other,\n",
    "                x = df_coll_by_vehicle_type.index,\n",
    "                name = 'other',\n",
    "                orientation = 'v'),\n",
    "                         go.Bar(\n",
    "                y = df_coll_by_vehicle_type.truck,\n",
    "                x = df_coll_by_vehicle_type.index,\n",
    "                name = 'truck',\n",
    "                orientation = 'v')\n",
    "    ])\n",
    "\n",
    "layout = go.Layout(\n",
    "        barmode='stack',\n",
    "        height = '500',\n",
    "        margin=go.Margin(l=100),\n",
    "        title = \"Collisions by week day and vehicle type\"\n",
    ")\n",
    "\n",
    "fig  = go.Figure(data=data, layout=layout)\n",
    "py.iplot(fig)"
   ]
  },
  {
   "cell_type": "markdown",
   "metadata": {},
   "source": [
    "<h4> Analysis </h4>\n",
    "\n",
    "The most collisions involve cars by far, while buses, taxis, and trucks are involved in accidents a lot less frequently.\n",
    "We notice fewer collisions during weekends. It might be interesting to see if collisions during weekends are for a different reason. They might be related to drunk driving, causing more severe accidents.\n"
   ]
  },
  {
   "cell_type": "markdown",
   "metadata": {},
   "source": [
    "## Time series charts"
   ]
  },
  {
   "cell_type": "markdown",
   "metadata": {},
   "source": [
    "### Collisions by hour of the day (total and by borough)"
   ]
  },
  {
   "cell_type": "code",
   "execution_count": null,
   "metadata": {},
   "outputs": [],
   "source": [
    "collisions2 = collisions\n",
    "\n",
    "collisions2['hour'] = pd.DatetimeIndex(collisions2.time).hour\n",
    "\n",
    "# df sorted by hour of accident \n",
    "df_by_hour = collisions2.ix[collisions2.hour.sort_values().index]"
   ]
  },
  {
   "cell_type": "code",
   "execution_count": null,
   "metadata": {},
   "outputs": [],
   "source": [
    "collisions_by_hour = df_by_hour.groupby('hour').hour.count()\n",
    "collisions_by_hour.iplot(kind = 'scatter', title = 'Collisions by hour')"
   ]
  },
  {
   "cell_type": "markdown",
   "metadata": {},
   "source": [
    "<h4> Analysis </h4>\n",
    "\n",
    "The incidence of traffic collisions rises sharply from 7 to 9 a.m., \n",
    "when hundreds of thousands of people are commuting into and around the city to get to work.\n",
    "It reaches its highest level at 4 p.m."
   ]
  },
  {
   "cell_type": "code",
   "execution_count": null,
   "metadata": {
    "scrolled": true
   },
   "outputs": [],
   "source": [
    "df_by_hour = collisions2.ix[collisions2.hour.sort_values().index]\n",
    "\n",
    "collisions_by_hour_Bronx = df_by_hour[df_by_hour['borough'] == 'BRONX'].groupby('hour').hour.count()\n",
    "collisions_by_hour_Queens = df_by_hour[df_by_hour['borough'] == 'QUEENS'].groupby('hour').hour.count()\n",
    "collisions_by_hour_Manhattan = df_by_hour[df_by_hour['borough'] == 'MANHATTAN'].groupby('hour').hour.count()\n",
    "collisions_by_hour_Brooklyn = df_by_hour[df_by_hour['borough'] == 'BROOKLYN'].groupby('hour').hour.count()\n",
    "collisions_by_hour_Staten = df_by_hour[df_by_hour['borough'] == 'STATEN ISLAND'].groupby('hour').hour.count()\n",
    "\n",
    "\n",
    "temp5 = pd.DataFrame({'Bronx': df_by_hour[df_by_hour['borough'] == 'BRONX'].hour.value_counts(),\n",
    "                      'Queens': df_by_hour[df_by_hour['borough'] == 'QUEENS'].hour.value_counts(),\n",
    "                      'Brooklyn': df_by_hour[df_by_hour['borough'] == 'BROOKLYN'].hour.value_counts(),\n",
    "                      'Manhattan': df_by_hour[df_by_hour['borough'] == 'MANHATTAN'].hour.value_counts(),\n",
    "                      'Staten': df_by_hour[df_by_hour['borough'] == 'STATEN ISLAND'].hour.value_counts()\n",
    "                     })\n",
    "\n",
    "color1 = '#8A0829'\n",
    "color2 = '#F08B00'\n",
    "color3 = '#9A2EFE'\n",
    "color4 = '#DF01A5'\n",
    "color5 = '#01DF74'\n",
    "\n",
    "trace1 = go.Scatter(\n",
    "    x = temp5.index,\n",
    "    y = temp5.Bronx,\n",
    "    name='Bronx',\n",
    "    line = dict(\n",
    "        color = color1\n",
    "    )\n",
    ")\n",
    "trace2 = go.Scatter(\n",
    "     x = temp5.index,\n",
    "    y = temp5.Queens,\n",
    "    name='Queens',\n",
    "     line = dict(\n",
    "        color = color2\n",
    "    )\n",
    ")\n",
    "trace3 = go.Scatter(\n",
    "     x = temp5.index,\n",
    "    y = temp5.Brooklyn,\n",
    "    name='Brooklyn',\n",
    "     line = dict(\n",
    "        color = color3\n",
    "    )\n",
    ")\n",
    "trace4 = go.Scatter(\n",
    "     x = temp5.index,\n",
    "    y = temp5.Manhattan,\n",
    "    name='Manhattan',\n",
    "     line = dict(\n",
    "        color = color4\n",
    "    )\n",
    ")\n",
    "trace5 = go.Scatter(\n",
    "     x = temp5.index,\n",
    "    y = temp5.Staten,\n",
    "    name='Staten Island',\n",
    "     line = dict(\n",
    "        color = color5\n",
    "    )\n",
    ")\n",
    "data = [trace1, trace2, trace3, trace4, trace5]\n",
    "\n",
    "layout = go.Layout(\n",
    "    title= \"Collisions per hour for each borough - 2014\",\n",
    "    yaxis=dict(\n",
    "        title='collisions',\n",
    "        titlefont=dict(\n",
    "            color='Black'\n",
    "        ),\n",
    "        tickfont=dict(\n",
    "            color='Black'\n",
    "        )\n",
    "    )\n",
    ")\n",
    "\n",
    "fig = go.Figure(data=data, layout=layout)\n",
    "plot_url = py.iplot(fig)\n"
   ]
  },
  {
   "cell_type": "code",
   "execution_count": null,
   "metadata": {},
   "outputs": [],
   "source": [
    "# We can also use a filled area chart\n",
    "temp5.iplot(kind='area', fill=True, title='Collisions per hour for each borough')"
   ]
  },
  {
   "cell_type": "markdown",
   "metadata": {},
   "source": [
    "<b>Note:</b> To better compare these results, it would be interesting to normalize this data based on the borough size or number of vehicles in 2014 per borough."
   ]
  },
  {
   "cell_type": "markdown",
   "metadata": {},
   "source": [
    "### Collisions and Number of deaths per day "
   ]
  },
  {
   "cell_type": "code",
   "execution_count": null,
   "metadata": {},
   "outputs": [],
   "source": [
    "collisions.date = pd.to_datetime(collisions.date)\n",
    "collisions.date.sort_values().index\n",
    "df_by_date = collisions.ix[collisions.date.sort_values().index]"
   ]
  },
  {
   "cell_type": "code",
   "execution_count": null,
   "metadata": {},
   "outputs": [],
   "source": [
    "collisions_by_date = df_by_date.groupby('date').date.count()\n",
    "deaths_by_date = df_by_date.groupby('date')['number_of_persons_killed'].sum()"
   ]
  },
  {
   "cell_type": "code",
   "execution_count": null,
   "metadata": {},
   "outputs": [],
   "source": [
    "colli_deaths = pd.DataFrame({'collisions':collisions_by_date, 'deaths':deaths_by_date })\n",
    "\n",
    "color1 = '#9467bd'\n",
    "color2 = '#F08B00'\n",
    "\n",
    "trace1 = go.Scatter(\n",
    "    x = colli_deaths.index,\n",
    "    y = colli_deaths['collisions'],\n",
    "    name='collisions',\n",
    "    line = dict(\n",
    "        color = color1\n",
    "    )\n",
    ")\n",
    "trace2 = go.Scatter(\n",
    "    x= colli_deaths.index,\n",
    "    y =colli_deaths['deaths'] ,\n",
    "    name='deaths',\n",
    "    yaxis='y2',\n",
    "    mode='markers'\n",
    "\n",
    ")\n",
    "data = [trace1, trace2]\n",
    "layout = go.Layout(\n",
    "    title= \"Collisions and Deaths per day (limited to 20k collisions)\",\n",
    "    yaxis=dict(\n",
    "        title='collisions',\n",
    "        titlefont=dict(\n",
    "            color=color1\n",
    "        ),\n",
    "        tickfont=dict(\n",
    "            color=color1\n",
    "        )\n",
    "    ),\n",
    "    yaxis2=dict(\n",
    "        title='deaths',\n",
    "        overlaying='y',\n",
    "        side='right',\n",
    "        titlefont=dict(\n",
    "            color=color2\n",
    "        ),\n",
    "        tickfont=dict(\n",
    "            color=color2\n",
    "        )\n",
    "\n",
    "    )\n",
    "\n",
    ")\n",
    "fig = go.Figure(data=data, layout=layout)\n",
    "plot_url = py.iplot(fig)"
   ]
  },
  {
   "cell_type": "markdown",
   "metadata": {},
   "source": [
    "## Maps of collisions in NYC"
   ]
  },
  {
   "cell_type": "code",
   "execution_count": null,
   "metadata": {},
   "outputs": [],
   "source": [
    "\n",
    "collisions_new = collisions[collisions['latitude'] != 0][['latitude', 'longitude', 'date', 'time',\n",
    "                                                               'borough', 'on_street_name', 'cross_street_name',\n",
    "                                                               'number_of_persons_injured', 'number_of_persons_killed',\n",
    "                                                               'contributing_factor_vehicle_1']]\n",
    "\n",
    "#divide dataset in accidents which are: fatal, non-lethal but with person damage, non of the above\n",
    "killed_pd = collisions_new[collisions_new['number_of_persons_killed']!=0]\n",
    "injured_pd = collisions_new[np.logical_and(collisions_new['number_of_persons_injured']!=0, \n",
    "                                           collisions_new['number_of_persons_killed']==0)]\n",
    "nothing_pd = collisions_new[np.logical_and(collisions_new['number_of_persons_killed']==0,\n",
    "                                           collisions_new['number_of_persons_injured']==0)]"
   ]
  },
  {
   "cell_type": "markdown",
   "metadata": {},
   "source": [
    "### Map of collisions by importance of accident "
   ]
  },
  {
   "cell_type": "code",
   "execution_count": null,
   "metadata": {},
   "outputs": [],
   "source": [
    "#adjust settings\n",
    "plt.figure(figsize=(20,15))\n",
    "\n",
    "#create scatterplots\n",
    "plt.scatter(nothing_pd.longitude, nothing_pd.latitude, alpha=0.7, s=5, color='blue')\n",
    "plt.scatter(injured_pd.longitude, injured_pd.latitude, alpha=0.5, s=15, color='yellow')\n",
    "plt.scatter(killed_pd.longitude, killed_pd.latitude, color='red', s=30)\n",
    "\n",
    "#create legend\n",
    "blue_patch = mpatches.Patch( label='car body damage', alpha=0.2, color='blue')\n",
    "yellow_patch = mpatches.Patch(color='yellow', label='personal injury', alpha=0.5)\n",
    "red_patch = mpatches.Patch(color='red', label='lethal accidents')\n",
    "plt.legend([blue_patch, yellow_patch, red_patch],('car body damage', 'personal injury', 'fatal accidents'),\n",
    "           loc='upper left', prop={'size':20})\n",
    "\n",
    "#adjust more settings\n",
    "plt.title('Severity of Motor Vehicle Collisions in New York City - 2014 (limited to 20k collisions)', size=20)\n",
    "plt.xlim((-74.26,-73.7))\n",
    "plt.ylim((40.5,40.92))\n",
    "plt.xlabel('Longitude',size=20)\n",
    "plt.ylabel('Latitude',size=20)\n",
    "\n",
    "plt.show()"
   ]
  },
  {
   "cell_type": "markdown",
   "metadata": {},
   "source": [
    "This map shows that there are fatal accident hot spots throughout the city. In some areas car body damage is prevalent, while in other areas personal injuries happen more often."
   ]
  },
  {
   "cell_type": "code",
   "execution_count": null,
   "metadata": {},
   "outputs": [],
   "source": []
  }
 ],
 "metadata": {
  "kernelspec": {
   "display_name": "Python 3",
   "language": "python",
   "name": "python3"
  },
  "language_info": {
   "codemirror_mode": {
    "name": "ipython",
    "version": 3
   },
   "file_extension": ".py",
   "mimetype": "text/x-python",
   "name": "python",
   "nbconvert_exporter": "python",
   "pygments_lexer": "ipython3",
   "version": "3.6.15"
  }
 },
 "nbformat": 4,
 "nbformat_minor": 1
}
